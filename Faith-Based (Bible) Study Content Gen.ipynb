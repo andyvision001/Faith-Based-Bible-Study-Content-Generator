{
  "nbformat": 4,
  "nbformat_minor": 0,
  "metadata": {
    "colab": {
      "provenance": []
    },
    "kernelspec": {
      "name": "python3",
      "display_name": "Python 3"
    },
    "language_info": {
      "name": "python"
    }
  },
  "cells": [
    {
      "cell_type": "code",
      "execution_count": null,
      "metadata": {
        "colab": {
          "base_uri": "https://localhost:8080/"
        },
        "id": "u2bya4mlH1Cm",
        "outputId": "31fc2694-d8b2-4e70-fe81-220c8785c569"
      },
      "outputs": [
        {
          "output_type": "stream",
          "name": "stdout",
          "text": [
            "Requirement already satisfied: openai in /usr/local/lib/python3.11/dist-packages (1.93.3)\n",
            "Collecting openai\n",
            "  Downloading openai-1.95.1-py3-none-any.whl.metadata (29 kB)\n",
            "\u001b[31mERROR: Could not find a version that satisfies the requirement 1.0.0 (from versions: none)\u001b[0m\u001b[31m\n",
            "\u001b[0m\u001b[31mERROR: No matching distribution found for 1.0.0\u001b[0m\u001b[31m\n",
            "\u001b[0m"
          ]
        }
      ],
      "source": [
        "# Install the OpenAI library\n",
        "!pip install openai --upgrade 1.0.0"
      ]
    },
    {
      "cell_type": "code",
      "source": [
        "!openai migrate"
      ],
      "metadata": {
        "colab": {
          "base_uri": "https://localhost:8080/"
        },
        "id": "9SxeukoGPU76",
        "outputId": "78fb1e3a-4d0b-478f-92a8-f73b1913e955"
      },
      "execution_count": null,
      "outputs": [
        {
          "output_type": "stream",
          "name": "stdout",
          "text": [
            "Downloading Grit CLI from https://github.com/getgrit/gritql/releases/latest/download/grit-x86_64-unknown-linux-gnu.tar.gz\n",
            "\n",
            "\u001b[2K\u001b[1A\n",
            "\u001b[2K\u001b[1A\n",
            "\u001b[1m\u001b[2mAnalyzing\u001b[0m \u001b[1m\u001b[2mFinding files                                                         \u001b[0m\n",
            "\u001b[2K\u001b[2AProcessed 0 files and found 0 matches\n"
          ]
        }
      ]
    },
    {
      "cell_type": "code",
      "source": [
        "pip install openai==0.28"
      ],
      "metadata": {
        "colab": {
          "base_uri": "https://localhost:8080/",
          "height": 567
        },
        "id": "pDAgDuOyPekR",
        "outputId": "6ee58aff-d534-4246-eaff-ced24374fa5d"
      },
      "execution_count": null,
      "outputs": [
        {
          "output_type": "stream",
          "name": "stdout",
          "text": [
            "Collecting openai==0.28\n",
            "  Downloading openai-0.28.0-py3-none-any.whl.metadata (13 kB)\n",
            "Requirement already satisfied: requests>=2.20 in /usr/local/lib/python3.11/dist-packages (from openai==0.28) (2.32.3)\n",
            "Requirement already satisfied: tqdm in /usr/local/lib/python3.11/dist-packages (from openai==0.28) (4.67.1)\n",
            "Requirement already satisfied: aiohttp in /usr/local/lib/python3.11/dist-packages (from openai==0.28) (3.11.15)\n",
            "Requirement already satisfied: charset-normalizer<4,>=2 in /usr/local/lib/python3.11/dist-packages (from requests>=2.20->openai==0.28) (3.4.2)\n",
            "Requirement already satisfied: idna<4,>=2.5 in /usr/local/lib/python3.11/dist-packages (from requests>=2.20->openai==0.28) (3.10)\n",
            "Requirement already satisfied: urllib3<3,>=1.21.1 in /usr/local/lib/python3.11/dist-packages (from requests>=2.20->openai==0.28) (2.4.0)\n",
            "Requirement already satisfied: certifi>=2017.4.17 in /usr/local/lib/python3.11/dist-packages (from requests>=2.20->openai==0.28) (2025.7.9)\n",
            "Requirement already satisfied: aiohappyeyeballs>=2.3.0 in /usr/local/lib/python3.11/dist-packages (from aiohttp->openai==0.28) (2.6.1)\n",
            "Requirement already satisfied: aiosignal>=1.1.2 in /usr/local/lib/python3.11/dist-packages (from aiohttp->openai==0.28) (1.4.0)\n",
            "Requirement already satisfied: attrs>=17.3.0 in /usr/local/lib/python3.11/dist-packages (from aiohttp->openai==0.28) (25.3.0)\n",
            "Requirement already satisfied: frozenlist>=1.1.1 in /usr/local/lib/python3.11/dist-packages (from aiohttp->openai==0.28) (1.7.0)\n",
            "Requirement already satisfied: multidict<7.0,>=4.5 in /usr/local/lib/python3.11/dist-packages (from aiohttp->openai==0.28) (6.6.3)\n",
            "Requirement already satisfied: propcache>=0.2.0 in /usr/local/lib/python3.11/dist-packages (from aiohttp->openai==0.28) (0.3.2)\n",
            "Requirement already satisfied: yarl<2.0,>=1.17.0 in /usr/local/lib/python3.11/dist-packages (from aiohttp->openai==0.28) (1.20.1)\n",
            "Requirement already satisfied: typing-extensions>=4.2 in /usr/local/lib/python3.11/dist-packages (from aiosignal>=1.1.2->aiohttp->openai==0.28) (4.14.1)\n",
            "Downloading openai-0.28.0-py3-none-any.whl (76 kB)\n",
            "\u001b[?25l   \u001b[90m━━━━━━━━━━━━━━━━━━━━━━━━━━━━━━━━━━━━━━━━\u001b[0m \u001b[32m0.0/76.5 kB\u001b[0m \u001b[31m?\u001b[0m eta \u001b[36m-:--:--\u001b[0m\r\u001b[2K   \u001b[90m━━━━━━━━━━━━━━━━━━━━━━━━━━━━━━━━━━━━━━━━\u001b[0m \u001b[32m76.5/76.5 kB\u001b[0m \u001b[31m3.1 MB/s\u001b[0m eta \u001b[36m0:00:00\u001b[0m\n",
            "\u001b[?25hInstalling collected packages: openai\n",
            "  Attempting uninstall: openai\n",
            "    Found existing installation: openai 1.93.3\n",
            "    Uninstalling openai-1.93.3:\n",
            "      Successfully uninstalled openai-1.93.3\n",
            "Successfully installed openai-0.28.0\n"
          ]
        },
        {
          "output_type": "display_data",
          "data": {
            "application/vnd.colab-display-data+json": {
              "pip_warning": {
                "packages": [
                  "openai"
                ]
              },
              "id": "5486deb2b6b5462797a561715bb2ac01"
            }
          },
          "metadata": {}
        }
      ]
    },
    {
      "cell_type": "markdown",
      "source": [
        "IMPORT OPENAI LIBRARY"
      ],
      "metadata": {
        "id": "tgUmTiqwLcYk"
      }
    },
    {
      "cell_type": "code",
      "source": [
        "# Import required libraries\n",
        "import openai\n",
        "from google.colab import userdata"
      ],
      "metadata": {
        "id": "7AcefwdyIHb7"
      },
      "execution_count": null,
      "outputs": []
    },
    {
      "cell_type": "markdown",
      "source": [
        "OPENAI API KEY"
      ],
      "metadata": {
        "id": "sJmEpEcGLYbp"
      }
    },
    {
      "cell_type": "code",
      "source": [
        "# Set up your OpenAI API key (stored securely in Colab secrets)\n",
        "openai.api_key = userdata.get('OPENAI_API_KEY')"
      ],
      "metadata": {
        "id": "nz6oduWSIMs4"
      },
      "execution_count": null,
      "outputs": []
    },
    {
      "cell_type": "markdown",
      "source": [
        "A FUNCTION"
      ],
      "metadata": {
        "id": "jnLsqf0uLsz2"
      }
    },
    {
      "cell_type": "code",
      "source": [
        "# Define a function to send a prompt to GPT-4\n",
        "def get_gpt4_response(prompt):\n",
        "    try:\n",
        "        response = openai.ChatCompletion.create(\n",
        "            model=\"gpt-4\",  # Specify GPT-4 model (ensure you have access)\n",
        "            messages=[\n",
        "                {\"role\": \"system\", \"content\": \"You are a helpful assistant.\"},\n",
        "                {\"role\": \"user\", \"content\": prompt}\n",
        "            ],\n",
        "            max_tokens=600,  # This Limit response length\n",
        "            temperature=0.7  # It Controls creativity (0.0 = deterministic, 1.0 = creative)\n",
        "        )\n",
        "        return response.choices[0].message.content.strip()\n",
        "    except Exception as e:\n",
        "        return f\"Error: {str(e)}\""
      ],
      "metadata": {
        "id": "jvyVr2lhLXd6"
      },
      "execution_count": null,
      "outputs": []
    },
    {
      "cell_type": "markdown",
      "source": [
        "EXAMPLE ZERO SHOT PROMPT"
      ],
      "metadata": {
        "id": "NqkMKycnMDc4"
      }
    },
    {
      "cell_type": "code",
      "source": [
        "# Example: Zero-shot prompt\n",
        "prompt = \"Write a Bible Study Outline on the topic of: The Love of God\"."
      ],
      "metadata": {
        "id": "HsFD0c6QMRMx"
      },
      "execution_count": null,
      "outputs": []
    },
    {
      "cell_type": "markdown",
      "source": [
        "FEW SHOT PROMPT"
      ],
      "metadata": {
        "id": "IRfDUI-L6KGY"
      }
    },
    {
      "cell_type": "code",
      "source": [
        "# Few-shot prompt with examples\n",
        "prompt = \"\"\"\n",
        "Write a Bible Study Outline on the topic of: \"God's Love\". I should have memeory verse, introduction, discuss points, and conclusion.\n",
        "\"\"\""
      ],
      "metadata": {
        "id": "f6l4cUPz6N9x"
      },
      "execution_count": null,
      "outputs": []
    },
    {
      "cell_type": "markdown",
      "source": [
        "Chain-of-Thought (CoT) Prompting"
      ],
      "metadata": {
        "id": "EmWwS88zEu46"
      }
    },
    {
      "cell_type": "markdown",
      "source": [
        "BIBLE STUDY PROMPT"
      ],
      "metadata": {
        "id": "xDLk-e8dHibF"
      }
    },
    {
      "cell_type": "code",
      "source": [
        "# Chain-of-thought prompt\n",
        "prompt = \"\"\"\n",
        "TOPIC: Write a Bible Study Outline on the topic of: \"God's Love\"\n",
        "TEXT: Text for the topic; could be a verse or a couple number of verses\n",
        "MEMORY VERSE: Give relevant and related one-verse as memory verse.\n",
        "INTRODUCTION: Write an introduction of about 100 words on the topic at hand. Note: Break the line to the next line after every 15 words.\n",
        "DISCUSSION:Draft 4 number of discuss points with relevant bible passages to guide the discussion. YOu can also draft a discussion point without scriptures where necessary.\n",
        "Example: 1. Discuss the Nature of God's Love (1 John 4:8), John 3:16\n",
        "a). How does this scripture reveal the nature of God and His love?\n",
        "b). etc\n",
        "CONCLUSION: Write a conclusion of about 50 words on the topic at hand. Note: Break the line to the next line after every 15 words.\n",
        "\"\"\""
      ],
      "metadata": {
        "id": "iE8Y_l2vFAZ-"
      },
      "execution_count": null,
      "outputs": []
    },
    {
      "cell_type": "markdown",
      "source": [
        "Print Response"
      ],
      "metadata": {
        "id": "iSPZG0JbMsrj"
      }
    },
    {
      "cell_type": "code",
      "source": [
        "# Get and print the response\n",
        "response = get_gpt4_response(prompt)\n",
        "print(\"GPT-4 Response:\")\n",
        "print(response)"
      ],
      "metadata": {
        "colab": {
          "base_uri": "https://localhost:8080/"
        },
        "id": "S1agkp6JMx5S",
        "outputId": "f01a1550-fa2b-4145-c888-40cb57f7fcbf"
      },
      "execution_count": null,
      "outputs": [
        {
          "output_type": "stream",
          "name": "stdout",
          "text": [
            "GPT-4 Response:\n",
            "TOPIC: God's Love\n",
            "\n",
            "TEXT: 1 John 4:8, John 3:16, Romans 5:8\n",
            "\n",
            "MEMORY VERSE: \"For God so loved the world that he gave his one and only Son, that whoever believes in him shall not perish but have eternal life.\" - John 3:16\n",
            "\n",
            "INTRODUCTION: \n",
            "God's love is an overarching theme \n",
            "throughout the Bible. It is a divine \n",
            "attribute that is infinite, eternal, \n",
            "and unchangeable. God's love extends to \n",
            "all His creation, regardless of their \n",
            "flaws or shortcomings. This study seeks \n",
            "to delve deeper into the concept of \n",
            "God's love as revealed in the Scriptures.\n",
            "\n",
            "DISCUSSION:\n",
            "1. The Nature of God's Love (1 John 4:8, John 3:16)\n",
            "a). How does 1 John 4:8 reveal the nature of God and His love?\n",
            "b). What does John 3:16 teach us about the depth of God's love?\n",
            "\n",
            "2. God's Love Demonstrated Through Jesus (Romans 5:8)\n",
            "a). How does God demonstrate His love for us in Romans 5:8?\n",
            "b). What does this tell us about the character of God's love?\n",
            "\n",
            "3. The Impact of God's Love on Believers (Ephesians 2:4-5)\n",
            "a). How does God's love impact our lives as believers according to Ephesians 2:4-5?\n",
            "b). How should our understanding of God's love influence our actions?\n",
            "\n",
            "4. Emulating God's Love (1 John 4:11)\n",
            "a). What does 1 John 4:11 instruct us to do as a result of God's love?\n",
            "b). How can we better emulate God's love in our daily lives?\n",
            "\n",
            "CONCLUSION: \n",
            "God's love is a profound \n",
            "and unchanging truth of our faith. \n",
            "Through His love, we find redemption, \n",
            "grace, and the strength to love others. \n",
            "As believers, it's essential to understand, \n",
            "embrace, and reflect this divine love \n",
            "in our lives.\n"
          ]
        }
      ]
    },
    {
      "cell_type": "code",
      "source": [
        "with open('The Love of God.txt', 'w') as f:\n",
        "    f.write(response)"
      ],
      "metadata": {
        "id": "pHfI1YBiyLhy"
      },
      "execution_count": null,
      "outputs": []
    },
    {
      "cell_type": "code",
      "source": [
        "!pip install openai==0.28"
      ],
      "metadata": {
        "id": "6PXlmIRT3gL7"
      },
      "execution_count": null,
      "outputs": []
    },
    {
      "cell_type": "code",
      "source": [
        "# Install required libraries\n",
        "# !pip install openai --upgrade\n",
        "!pip install sentence-transformers\n",
        "!pip install nltk\n",
        "!pip install rouge_score\n",
        "!pip install scikit-learn"
      ],
      "metadata": {
        "id": "jDNS-YQ14QCW"
      },
      "execution_count": null,
      "outputs": []
    },
    {
      "cell_type": "code",
      "source": [
        "!pip install openai --upgrade\n",
        "\n",
        "# Import libraries\n",
        "from openai import OpenAI\n",
        "from google.colab import userdata\n",
        "from sentence_transformers import SentenceTransformer\n",
        "from sklearn.metrics.pairwise import cosine_similarity\n",
        "from nltk.translate.bleu_score import sentence_bleu\n",
        "from rouge_score import rouge_scorer\n",
        "import numpy as np\n",
        "import nltk\n",
        "\n",
        "# Download NLTK data for BLEU score\n",
        "nltk.download('punkt')\n",
        "\n",
        "# Retrieve and validate API key\n",
        "try:\n",
        "    api_key = userdata.get('OPENAI_API_KEY')\n",
        "    if api_key is None or not api_key.startswith('sk-'):\n",
        "        raise ValueError(\"OPENAI_API_KEY is missing or invalid in Colab Secrets.\")\n",
        "    print(\"API Key (partial):\", api_key[:5] + \"...\" + api_key[-5:])  # Debug: Show partial key\n",
        "except Exception as e:\n",
        "    print(f\"Error retrieving API key: {str(e)}\")\n",
        "    api_key = None\n",
        "\n",
        "# Initialize the OpenAI client\n",
        "try:\n",
        "    client = OpenAI(api_key=api_key)\n",
        "    print(\"OpenAI client initialized successfully.\")\n",
        "except Exception as e:\n",
        "    print(f\"Error initializing OpenAI client: {str(e)}\")\n",
        "    client = None # Ensure client is None if initialization fails here\n",
        "\n",
        "\n",
        "# Define a function to send a prompt to GPT-4\n",
        "def get_gpt4_response(prompt):\n",
        "    if client is None:\n",
        "        return \"Error: OpenAI client not initialized.\"\n",
        "    try:\n",
        "        response = client.chat.completions.create(\n",
        "            model=\"gpt-4\",  # Specify GPT-4 model (ensure you have access)\n",
        "            messages=[\n",
        "                {\"role\": \"system\", \"content\": \"You are a helpful assistant.\"},\n",
        "                {\"role\": \"user\", \"content\": prompt}\n",
        "            ],\n",
        "            max_tokens=150,\n",
        "            temperature=0.7\n",
        "        )\n",
        "        return response.choices[0].message.content.strip()\n",
        "    except Exception as e:\n",
        "        return f\"Error in API call: {str(e)}\"\n",
        "\n",
        "# Example prompt and reference response\n",
        "prompt = \"\"\"\n",
        "Explain artificial intelligence in 100 words or less, using simple language for a high school student.\n",
        "Follow this example: Artificial intelligence (AI) is when computers act like humans by learning from data.\n",
        "They can recognize images, answer questions, or play games. For example, AI in a phone’s assistant,\n",
        "like Siri, understands your voice and responds. AI helps make tasks easier, like recommending songs or helping with homework.\n",
        "\"\"\"\n",
        "reference_response = (\n",
        "    \"Artificial intelligence (AI) is when computers act like humans by learning from data. \"\n",
        "    \"They can recognize images, answer questions, or play games. For example, AI in a phone’s assistant, \"\n",
        "    \"like Siri, understands your voice and responds. AI helps make tasks easier, like recommending songs or helping with homework.\"\n",
        ")\n",
        "\n",
        "# Get GPT-4 response\n",
        "gpt4_response = get_gpt4_response(prompt)\n",
        "print(\"\\nGPT-4 Response:\")\n",
        "print(gpt4_response)\n",
        "print(\"\\nReference Response:\")\n",
        "print(reference_response)"
      ],
      "metadata": {
        "colab": {
          "base_uri": "https://localhost:8080/"
        },
        "id": "BTHqa6RY10O5",
        "outputId": "311af53f-2971-4280-bc15-ba3ab81a618f"
      },
      "execution_count": null,
      "outputs": [
        {
          "output_type": "stream",
          "name": "stdout",
          "text": [
            "Requirement already satisfied: openai in /usr/local/lib/python3.11/dist-packages (1.95.1)\n",
            "Requirement already satisfied: anyio<5,>=3.5.0 in /usr/local/lib/python3.11/dist-packages (from openai) (4.9.0)\n",
            "Requirement already satisfied: distro<2,>=1.7.0 in /usr/local/lib/python3.11/dist-packages (from openai) (1.9.0)\n",
            "Requirement already satisfied: httpx<1,>=0.23.0 in /usr/local/lib/python3.11/dist-packages (from openai) (0.28.1)\n",
            "Requirement already satisfied: jiter<1,>=0.4.0 in /usr/local/lib/python3.11/dist-packages (from openai) (0.10.0)\n",
            "Requirement already satisfied: pydantic<3,>=1.9.0 in /usr/local/lib/python3.11/dist-packages (from openai) (2.11.7)\n",
            "Requirement already satisfied: sniffio in /usr/local/lib/python3.11/dist-packages (from openai) (1.3.1)\n",
            "Requirement already satisfied: tqdm>4 in /usr/local/lib/python3.11/dist-packages (from openai) (4.67.1)\n",
            "Requirement already satisfied: typing-extensions<5,>=4.11 in /usr/local/lib/python3.11/dist-packages (from openai) (4.14.1)\n",
            "Requirement already satisfied: idna>=2.8 in /usr/local/lib/python3.11/dist-packages (from anyio<5,>=3.5.0->openai) (3.10)\n",
            "Requirement already satisfied: certifi in /usr/local/lib/python3.11/dist-packages (from httpx<1,>=0.23.0->openai) (2025.7.9)\n",
            "Requirement already satisfied: httpcore==1.* in /usr/local/lib/python3.11/dist-packages (from httpx<1,>=0.23.0->openai) (1.0.9)\n",
            "Requirement already satisfied: h11>=0.16 in /usr/local/lib/python3.11/dist-packages (from httpcore==1.*->httpx<1,>=0.23.0->openai) (0.16.0)\n",
            "Requirement already satisfied: annotated-types>=0.6.0 in /usr/local/lib/python3.11/dist-packages (from pydantic<3,>=1.9.0->openai) (0.7.0)\n",
            "Requirement already satisfied: pydantic-core==2.33.2 in /usr/local/lib/python3.11/dist-packages (from pydantic<3,>=1.9.0->openai) (2.33.2)\n",
            "Requirement already satisfied: typing-inspection>=0.4.0 in /usr/local/lib/python3.11/dist-packages (from pydantic<3,>=1.9.0->openai) (0.4.1)\n"
          ]
        },
        {
          "output_type": "stream",
          "name": "stderr",
          "text": [
            "[nltk_data] Downloading package punkt to /root/nltk_data...\n",
            "[nltk_data]   Package punkt is already up-to-date!\n"
          ]
        },
        {
          "output_type": "stream",
          "name": "stdout",
          "text": [
            "API Key (partial): sk-pr...8LKoA\n",
            "OpenAI client initialized successfully.\n",
            "\n",
            "GPT-4 Response:\n",
            "Artificial Intelligence (AI) is like teaching computers to think and learn like humans. They use information or 'data' to do tasks such as identifying pictures, answering queries, or even playing games. For instance, the AI in phone assistants like Siri can understand and reply to your voice commands. It makes tasks simpler, like suggesting music based on your taste or assisting with your school assignments.\n",
            "\n",
            "Reference Response:\n",
            "Artificial intelligence (AI) is when computers act like humans by learning from data. They can recognize images, answer questions, or play games. For example, AI in a phone’s assistant, like Siri, understands your voice and responds. AI helps make tasks easier, like recommending songs or helping with homework.\n"
          ]
        }
      ]
    },
    {
      "cell_type": "code",
      "source": [
        "# Example prompt and reference response\n",
        "prompt = \"\"\"\n",
        "Explain artificial intelligence in 100 words or less, using simple language for a high school student.\n",
        "Follow this example: Artificial intelligence (AI) is when computers act like humans by learning from data.\n",
        "They can recognize images, answer questions, or play games. For example, AI in a phone’s assistant,\n",
        "like Siri, understands your voice and responds. AI helps make tasks easier, like recommending songs or helping with homework.\n",
        "\"\"\"\n",
        "reference_response = (\n",
        "    \"Artificial intelligence (AI) is when computers act like humans by learning from data. \"\n",
        "    \"They can recognize images, answer questions, or play games. For example, AI in a phone’s assistant, \"\n",
        "    \"like Siri, understands your voice and responds. AI helps make tasks easier, like recommending songs or helping with homework.\"\n",
        ")\n",
        "\n",
        "# Get GPT-4 response (assuming get_gpt4_response function is defined in a previous cell)\n",
        "gpt4_response = get_gpt4_response(prompt)\n",
        "print(\"\\nGPT-4 Response:\")\n",
        "print(gpt4_response)\n",
        "print(\"\\nReference Response:\")\n",
        "print(reference_response)\n",
        "\n",
        "# Proceed with evaluation only if GPT-4 response is valid\n",
        "if not gpt4_response.startswith(\"Error\"):\n",
        "    # Initialize SentenceTransformer for embeddings\n",
        "    model = SentenceTransformer('all-MiniLM-L6-v2')\n",
        "\n",
        "    # Compute embeddings for cosine similarity\n",
        "    gpt4_embedding = model.encode([gpt4_response])[0]\n",
        "    reference_embedding = model.encode([reference_response])[0]\n",
        "\n",
        "    # Calculate cosine similarity using scikit-learn\n",
        "    cosine_sim = cosine_similarity([gpt4_embedding], [reference_embedding])[0][0]\n",
        "    print(f\"\\nCosine Similarity (Semantic): {cosine_sim:.4f}\")\n",
        "\n",
        "    # Download NLTK data for BLEU score if not already downloaded\n",
        "    try:\n",
        "        nltk.data.find('tokenizers/punkt_tab/')\n",
        "    except LookupError:\n",
        "        nltk.download('punkt_tab')\n",
        "\n",
        "\n",
        "    # Calculate BLEU score\n",
        "    reference_tokens = [nltk.word_tokenize(reference_response)]\n",
        "    gpt4_tokens = nltk.word_tokenize(gpt4_response)\n",
        "    bleu_score = sentence_bleu(reference_tokens, gpt4_tokens)\n",
        "    print(f\"BLEU Score: {bleu_score:.4f}\")\n",
        "\n",
        "    # Calculate ROUGE scores\n",
        "    scorer = rouge_scorer.RougeScorer(['rouge1', 'rougeL'], use_stemmer=True)\n",
        "    rouge_scores = scorer.score(reference_response, gpt4_response)\n",
        "    print(f\"ROUGE-1 Score: {rouge_scores['rouge1'].fmeasure:.4f}\")\n",
        "    print(f\"ROUGE-L Score: {rouge_scores['rougeL'].fmeasure:.4f}\")\n",
        "else:\n",
        "    print(\"Skipping evaluation due to error in GPT-4 response.\")"
      ],
      "metadata": {
        "colab": {
          "base_uri": "https://localhost:8080/"
        },
        "id": "akSixGsZ3twv",
        "outputId": "6b4cac91-4281-4b4e-ecea-eedb4eb17cfb"
      },
      "execution_count": null,
      "outputs": [
        {
          "output_type": "stream",
          "name": "stdout",
          "text": [
            "\n",
            "GPT-4 Response:\n",
            "Artificial Intelligence (AI) is like teaching a computer to think and learn like a person. It uses loads of data to understand and respond to situations. AI can recognize things in pictures, answer questions, or even play games against you. Think of Siri or Alexa, they use AI to understand your commands and provide useful responses. AI is used to simplify tasks, like suggesting music based on your taste or helping you solve math problems.\n",
            "\n",
            "Reference Response:\n",
            "Artificial intelligence (AI) is when computers act like humans by learning from data. They can recognize images, answer questions, or play games. For example, AI in a phone’s assistant, like Siri, understands your voice and responds. AI helps make tasks easier, like recommending songs or helping with homework.\n",
            "\n",
            "Cosine Similarity (Semantic): 0.9520\n",
            "BLEU Score: 0.1047\n",
            "ROUGE-1 Score: 0.4839\n",
            "ROUGE-L Score: 0.3710\n"
          ]
        }
      ]
    }
  ]
}